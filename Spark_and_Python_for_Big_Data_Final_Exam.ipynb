{
  "cells": [
    {
      "cell_type": "markdown",
      "id": "fa486f23",
      "metadata": {
        "id": "fa486f23"
      },
      "source": [
        "![image.png](attachment:image.png)"
      ]
    },
    {
      "cell_type": "markdown",
      "id": "abbf1e33",
      "metadata": {
        "id": "abbf1e33"
      },
      "source": [
        "##### **Good luck with taking your exam. Keep working and make your dreams all come true. Seeing the results of all of your hard work will make this struggle worth it. We’re all thinking of you.** \n",
        "<b><font color='blue'>AI-PRO Spark Team ITI</font></b>"
      ]
    },
    {
      "cell_type": "markdown",
      "id": "c9da32d6",
      "metadata": {
        "id": "c9da32d6"
      },
      "source": [
        "# NLP Using PySpark"
      ]
    },
    {
      "cell_type": "markdown",
      "id": "8326ba88",
      "metadata": {
        "id": "8326ba88"
      },
      "source": [
        "## Objective:\n",
        "- The objective from this project is to create a <b>Spam filter using NaiveBayes classifier</b>.\n",
        "- It is required to obtain <b>f1_scored > 0.9</b>.\n",
        "- We'll use a dataset from UCI Repository. SMS Spam Detection: https://archive.ics.uci.edu/ml/datasets/SMS+Spam+Collection\n",
        "- Data is also provided for you in the assignment (you do not have to download it)."
      ]
    },
    {
      "cell_type": "markdown",
      "id": "6971f788",
      "metadata": {
        "id": "6971f788"
      },
      "source": [
        "## To perform this task follow the following guiding steps:"
      ]
    },
    {
      "cell_type": "markdown",
      "id": "e31bc851",
      "metadata": {
        "id": "e31bc851"
      },
      "source": [
        "### Create a spark session and import the required libraries"
      ]
    },
    {
      "cell_type": "code",
      "execution_count": 4,
      "id": "dcf86e46",
      "metadata": {
        "colab": {
          "base_uri": "https://localhost:8080/"
        },
        "id": "dcf86e46",
        "outputId": "b2607f06-00ab-4346-97e9-8325e8f8b719"
      },
      "outputs": [
        {
          "output_type": "stream",
          "name": "stdout",
          "text": [
            "Looking in indexes: https://pypi.org/simple, https://us-python.pkg.dev/colab-wheels/public/simple/\n",
            "Requirement already satisfied: pyspark in /usr/local/lib/python3.7/dist-packages (3.3.0)\n",
            "Requirement already satisfied: py4j==0.10.9.5 in /usr/local/lib/python3.7/dist-packages (from pyspark) (0.10.9.5)\n"
          ]
        }
      ],
      "source": [
        "pip install pyspark\n"
      ]
    },
    {
      "cell_type": "markdown",
      "id": "90c7df9e",
      "metadata": {
        "id": "90c7df9e"
      },
      "source": [
        "### Read the readme file to learn more about the data"
      ]
    },
    {
      "cell_type": "code",
      "source": [
        "import pyspark\n",
        "from pyspark.sql.functions import *\n",
        "from pyspark.sql.types import *\n",
        "from pyspark.sql import SparkSession\n",
        "spark = SparkSession.builder.appName(\"Fianl\").getOrCreate()\n",
        "df = spark.read.csv(\"SMSSpamCollection.txt\",sep='\\t')\n",
        "\n"
      ],
      "metadata": {
        "id": "1_9vpKvPiTPH"
      },
      "id": "1_9vpKvPiTPH",
      "execution_count": 29,
      "outputs": []
    },
    {
      "cell_type": "markdown",
      "id": "2d00718f",
      "metadata": {
        "id": "2d00718f"
      },
      "source": [
        "### Read the data into a DataFrame"
      ]
    },
    {
      "cell_type": "code",
      "execution_count": 31,
      "id": "29914cf1",
      "metadata": {
        "id": "29914cf1"
      },
      "outputs": [],
      "source": [
        "df = spark.read.load(\"/content/SMSSpamCollection.txt\",format=\"csv\", sep=\"\\t\", inferSchema=\"true\")"
      ]
    },
    {
      "cell_type": "markdown",
      "id": "182cd7f6",
      "metadata": {
        "id": "182cd7f6"
      },
      "source": [
        "### Print the schema"
      ]
    },
    {
      "cell_type": "code",
      "execution_count": 32,
      "id": "b52706b9",
      "metadata": {
        "colab": {
          "base_uri": "https://localhost:8080/"
        },
        "id": "b52706b9",
        "outputId": "aee4ad7f-50a7-4edf-cc7a-7dffbef416d2"
      },
      "outputs": [
        {
          "output_type": "stream",
          "name": "stdout",
          "text": [
            "root\n",
            " |-- _c0: string (nullable = true)\n",
            " |-- _c1: string (nullable = true)\n",
            "\n",
            "+----+--------------------+\n",
            "| _c0|                 _c1|\n",
            "+----+--------------------+\n",
            "| ham|Go until jurong p...|\n",
            "| ham|Ok lar... Joking ...|\n",
            "|spam|Free entry in 2 a...|\n",
            "| ham|U dun say so earl...|\n",
            "+----+--------------------+\n",
            "only showing top 4 rows\n",
            "\n"
          ]
        }
      ],
      "source": [
        "df.printSchema()\n",
        "df.show(4)\n"
      ]
    },
    {
      "cell_type": "markdown",
      "id": "2b90cce7",
      "metadata": {
        "id": "2b90cce7"
      },
      "source": [
        "### Rename the first column to 'class' and second column to 'text'"
      ]
    },
    {
      "cell_type": "code",
      "execution_count": 33,
      "id": "f1a88df6",
      "metadata": {
        "scrolled": false,
        "id": "f1a88df6"
      },
      "outputs": [],
      "source": [
        "df = df.withColumnRenamed(\"_c0\",'class')\n",
        "df = df.withColumnRenamed(\"_c1\", 'text')"
      ]
    },
    {
      "cell_type": "code",
      "execution_count": 34,
      "id": "62a544fc",
      "metadata": {
        "colab": {
          "base_uri": "https://localhost:8080/"
        },
        "id": "62a544fc",
        "outputId": "2082fc69-8fdb-4dea-f219-2f4f435535c7"
      },
      "outputs": [
        {
          "output_type": "stream",
          "name": "stdout",
          "text": [
            "root\n",
            " |-- class: string (nullable = true)\n",
            " |-- text: string (nullable = true)\n",
            "\n"
          ]
        }
      ],
      "source": [
        "df.printSchema()\n"
      ]
    },
    {
      "cell_type": "markdown",
      "id": "a3e798d0",
      "metadata": {
        "id": "a3e798d0"
      },
      "source": [
        "### Show the first 10 rows from the dataframe\n",
        "- Show once with truncate=True and once with truncate=False"
      ]
    },
    {
      "cell_type": "code",
      "execution_count": 35,
      "id": "362dcb99",
      "metadata": {
        "colab": {
          "base_uri": "https://localhost:8080/"
        },
        "id": "362dcb99",
        "outputId": "197c8bfe-967f-4cbe-e869-64dfc6325d00"
      },
      "outputs": [
        {
          "output_type": "stream",
          "name": "stdout",
          "text": [
            "+-----+--------------------+\n",
            "|class|                text|\n",
            "+-----+--------------------+\n",
            "|  ham|Go until jurong p...|\n",
            "|  ham|Ok lar... Joking ...|\n",
            "| spam|Free entry in 2 a...|\n",
            "|  ham|U dun say so earl...|\n",
            "|  ham|Nah I don't think...|\n",
            "| spam|FreeMsg Hey there...|\n",
            "|  ham|Even my brother i...|\n",
            "|  ham|As per your reque...|\n",
            "| spam|WINNER!! As a val...|\n",
            "| spam|Had your mobile 1...|\n",
            "+-----+--------------------+\n",
            "only showing top 10 rows\n",
            "\n"
          ]
        }
      ],
      "source": [
        "#with truncate =True\n",
        "df.show(10)\n"
      ]
    },
    {
      "cell_type": "code",
      "execution_count": 37,
      "id": "41609e6b",
      "metadata": {
        "colab": {
          "base_uri": "https://localhost:8080/"
        },
        "id": "41609e6b",
        "outputId": "e9a2cfc9-dc14-46b0-b443-10696563680e"
      },
      "outputs": [
        {
          "output_type": "stream",
          "name": "stdout",
          "text": [
            "+-----+----------------------------------------------------------------------------------------------------------------------------------------------------------------+\n",
            "|class|text                                                                                                                                                            |\n",
            "+-----+----------------------------------------------------------------------------------------------------------------------------------------------------------------+\n",
            "|ham  |Go until jurong point, crazy.. Available only in bugis n great world la e buffet... Cine there got amore wat...                                                 |\n",
            "|ham  |Ok lar... Joking wif u oni...                                                                                                                                   |\n",
            "|spam |Free entry in 2 a wkly comp to win FA Cup final tkts 21st May 2005. Text FA to 87121 to receive entry question(std txt rate)T&C's apply 08452810075over18's     |\n",
            "|ham  |U dun say so early hor... U c already then say...                                                                                                               |\n",
            "|ham  |Nah I don't think he goes to usf, he lives around here though                                                                                                   |\n",
            "|spam |FreeMsg Hey there darling it's been 3 week's now and no word back! I'd like some fun you up for it still? Tb ok! XxX std chgs to send, £1.50 to rcv             |\n",
            "|ham  |Even my brother is not like to speak with me. They treat me like aids patent.                                                                                   |\n",
            "|ham  |As per your request 'Melle Melle (Oru Minnaminunginte Nurungu Vettam)' has been set as your callertune for all Callers. Press *9 to copy your friends Callertune|\n",
            "|spam |WINNER!! As a valued network customer you have been selected to receivea £900 prize reward! To claim call 09061701461. Claim code KL341. Valid 12 hours only.   |\n",
            "|spam |Had your mobile 11 months or more? U R entitled to Update to the latest colour mobiles with camera for Free! Call The Mobile Update Co FREE on 08002986030      |\n",
            "+-----+----------------------------------------------------------------------------------------------------------------------------------------------------------------+\n",
            "only showing top 10 rows\n",
            "\n"
          ]
        }
      ],
      "source": [
        "#with truncate =False\n",
        "df.show(10 , truncate=False)\n"
      ]
    },
    {
      "cell_type": "markdown",
      "id": "2fe744a9",
      "metadata": {
        "id": "2fe744a9"
      },
      "source": [
        "## Clean and Prepare the Data"
      ]
    },
    {
      "cell_type": "markdown",
      "id": "4d693167",
      "metadata": {
        "id": "4d693167"
      },
      "source": [
        "### Create a new feature column contains the length of the text column"
      ]
    },
    {
      "cell_type": "code",
      "execution_count": 38,
      "id": "5424a0cb",
      "metadata": {
        "id": "5424a0cb"
      },
      "outputs": [],
      "source": [
        "from pyspark.sql.functions import length\n",
        "df = df.withColumn('length_text', length(df.text))\n"
      ]
    },
    {
      "cell_type": "markdown",
      "id": "78ea2de6",
      "metadata": {
        "id": "78ea2de6"
      },
      "source": [
        "### Show the new dataframe"
      ]
    },
    {
      "cell_type": "code",
      "execution_count": 40,
      "id": "04c67c53",
      "metadata": {
        "scrolled": false,
        "colab": {
          "base_uri": "https://localhost:8080/"
        },
        "id": "04c67c53",
        "outputId": "8e3107fc-47f1-4d47-dea9-2be9d2b97c3b"
      },
      "outputs": [
        {
          "output_type": "stream",
          "name": "stdout",
          "text": [
            "+-----+--------------------+-----------+\n",
            "|class|                text|length_text|\n",
            "+-----+--------------------+-----------+\n",
            "|  ham|Go until jurong p...|        111|\n",
            "|  ham|Ok lar... Joking ...|         29|\n",
            "| spam|Free entry in 2 a...|        155|\n",
            "|  ham|U dun say so earl...|         49|\n",
            "|  ham|Nah I don't think...|         61|\n",
            "| spam|FreeMsg Hey there...|        147|\n",
            "|  ham|Even my brother i...|         77|\n",
            "|  ham|As per your reque...|        160|\n",
            "| spam|WINNER!! As a val...|        157|\n",
            "| spam|Had your mobile 1...|        154|\n",
            "|  ham|I'm gonna be home...|        109|\n",
            "| spam|SIX chances to wi...|        136|\n",
            "| spam|URGENT! You have ...|        155|\n",
            "|  ham|I've been searchi...|        196|\n",
            "|  ham|I HAVE A DATE ON ...|         35|\n",
            "| spam|XXXMobileMovieClu...|        149|\n",
            "|  ham|Oh k...i'm watchi...|         26|\n",
            "|  ham|Eh u remember how...|         81|\n",
            "|  ham|Fine if thats th...|         56|\n",
            "| spam|England v Macedon...|        155|\n",
            "+-----+--------------------+-----------+\n",
            "only showing top 20 rows\n",
            "\n"
          ]
        }
      ],
      "source": [
        "df.show()"
      ]
    },
    {
      "cell_type": "markdown",
      "id": "692e37a6",
      "metadata": {
        "id": "692e37a6"
      },
      "source": [
        "### Get the average text length for each class (give alias name to the average length column)"
      ]
    },
    {
      "cell_type": "code",
      "execution_count": 44,
      "id": "5c32727d",
      "metadata": {
        "colab": {
          "base_uri": "https://localhost:8080/"
        },
        "id": "5c32727d",
        "outputId": "9add4a44-a24e-406c-dbee-2b6434679ee6"
      },
      "outputs": [
        {
          "output_type": "stream",
          "name": "stdout",
          "text": [
            "+-----+-----------------+\n",
            "|class| avg(length_text)|\n",
            "+-----+-----------------+\n",
            "|  ham|71.45431945307645|\n",
            "| spam|138.6706827309237|\n",
            "+-----+-----------------+\n",
            "\n"
          ]
        }
      ],
      "source": [
        "df.createOrReplaceTempView(\"df_view\")\n",
        "spark.sql(\"\"\"select  class , avg(length_text) \n",
        "from df_view\n",
        "group By(class)\n",
        "\"\"\").show()\n"
      ]
    },
    {
      "cell_type": "markdown",
      "id": "d5e101af",
      "metadata": {
        "id": "d5e101af"
      },
      "source": [
        "## Feature Transformations"
      ]
    },
    {
      "cell_type": "markdown",
      "id": "838ad9dd",
      "metadata": {
        "id": "838ad9dd"
      },
      "source": [
        "### In this part you transform you raw text in to tf_idf model :\n",
        "- For more information about TF-IDF check the following link: <b>(Not needed for the test)</b>\n",
        "https://en.wikipedia.org/wiki/Tf%E2%80%93idf"
      ]
    },
    {
      "cell_type": "markdown",
      "id": "225067d5",
      "metadata": {
        "id": "225067d5"
      },
      "source": [
        "### Perform the following steps to obtain TF-IDF:\n",
        "1. Import the required transformers/estimators for the subsequent steps.\n",
        "2. Create a <b>Tokenizer</b> from the text column.\n",
        "3. Create a <b>StopWordsRemover</b> to remove the <b>stop words</b> from the column obtained from the <b>Tokenizer</b>.\n",
        "4. Create a <b>CountVectorizer</b> after removing the <b>stop words</b>.\n",
        "5. Create the <b>TF-IDF</b> from the <b>CountVectorizer</b>."
      ]
    },
    {
      "cell_type": "code",
      "execution_count": 56,
      "id": "6a4eebf8",
      "metadata": {
        "colab": {
          "base_uri": "https://localhost:8080/"
        },
        "id": "6a4eebf8",
        "outputId": "4525a260-98d0-4069-93ca-8fe6b548880a"
      },
      "outputs": [
        {
          "output_type": "stream",
          "name": "stdout",
          "text": [
            "+-----+--------------------+-----------+--------------------+\n",
            "|class|                text|length_text|               words|\n",
            "+-----+--------------------+-----------+--------------------+\n",
            "|  ham|Go until jurong p...|        111|[go, until, juron...|\n",
            "|  ham|Ok lar... Joking ...|         29|[ok, lar..., joki...|\n",
            "| spam|Free entry in 2 a...|        155|[free, entry, in,...|\n",
            "|  ham|U dun say so earl...|         49|[u, dun, say, so,...|\n",
            "|  ham|Nah I don't think...|         61|[nah, i, don't, t...|\n",
            "| spam|FreeMsg Hey there...|        147|[freemsg, hey, th...|\n",
            "|  ham|Even my brother i...|         77|[even, my, brothe...|\n",
            "|  ham|As per your reque...|        160|[as, per, your, r...|\n",
            "| spam|WINNER!! As a val...|        157|[winner!!, as, a,...|\n",
            "| spam|Had your mobile 1...|        154|[had, your, mobil...|\n",
            "|  ham|I'm gonna be home...|        109|[i'm, gonna, be, ...|\n",
            "| spam|SIX chances to wi...|        136|[six, chances, to...|\n",
            "| spam|URGENT! You have ...|        155|[urgent!, you, ha...|\n",
            "|  ham|I've been searchi...|        196|[i've, been, sear...|\n",
            "|  ham|I HAVE A DATE ON ...|         35|[i, have, a, date...|\n",
            "| spam|XXXMobileMovieClu...|        149|[xxxmobilemoviecl...|\n",
            "|  ham|Oh k...i'm watchi...|         26|[oh, k...i'm, wat...|\n",
            "|  ham|Eh u remember how...|         81|[eh, u, remember,...|\n",
            "|  ham|Fine if thats th...|         56|[fine, if, thats...|\n",
            "| spam|England v Macedon...|        155|[england, v, mace...|\n",
            "+-----+--------------------+-----------+--------------------+\n",
            "only showing top 20 rows\n",
            "\n"
          ]
        }
      ],
      "source": [
        "#Import the required transformers/estimators for the subsequent steps.\n",
        "#Create a Tokenizer from the text column.\n",
        "from pyspark.ml.feature import RegexTokenizer\n",
        "tokenizer = RegexTokenizer(inputCol=\"text\", outputCol=\"words\", pattern=\" \")\n",
        "tokenized = tokenizer.transform(df)\n",
        "tokenized.show()"
      ]
    },
    {
      "cell_type": "code",
      "execution_count": 57,
      "id": "b82756db",
      "metadata": {
        "colab": {
          "base_uri": "https://localhost:8080/"
        },
        "id": "b82756db",
        "outputId": "c88fe778-ebfd-4ff1-f09c-e0fbf80c8e8b"
      },
      "outputs": [
        {
          "output_type": "stream",
          "name": "stdout",
          "text": [
            "+-----+--------------------+-----------+--------------------+--------------------+\n",
            "|class|                text|length_text|               words|         words_clean|\n",
            "+-----+--------------------+-----------+--------------------+--------------------+\n",
            "|  ham|Go until jurong p...|        111|[go, until, juron...|[go, jurong, poin...|\n",
            "|  ham|Ok lar... Joking ...|         29|[ok, lar..., joki...|[ok, lar..., joki...|\n",
            "| spam|Free entry in 2 a...|        155|[free, entry, in,...|[free, entry, 2, ...|\n",
            "|  ham|U dun say so earl...|         49|[u, dun, say, so,...|[u, dun, say, ear...|\n",
            "|  ham|Nah I don't think...|         61|[nah, i, don't, t...|[nah, think, goes...|\n",
            "| spam|FreeMsg Hey there...|        147|[freemsg, hey, th...|[freemsg, hey, da...|\n",
            "|  ham|Even my brother i...|         77|[even, my, brothe...|[even, brother, l...|\n",
            "|  ham|As per your reque...|        160|[as, per, your, r...|[per, request, 'm...|\n",
            "| spam|WINNER!! As a val...|        157|[winner!!, as, a,...|[winner!!, valued...|\n",
            "| spam|Had your mobile 1...|        154|[had, your, mobil...|[mobile, 11, mont...|\n",
            "|  ham|I'm gonna be home...|        109|[i'm, gonna, be, ...|[gonna, home, soo...|\n",
            "| spam|SIX chances to wi...|        136|[six, chances, to...|[six, chances, wi...|\n",
            "| spam|URGENT! You have ...|        155|[urgent!, you, ha...|[urgent!, won, 1,...|\n",
            "|  ham|I've been searchi...|        196|[i've, been, sear...|[searching, right...|\n",
            "|  ham|I HAVE A DATE ON ...|         35|[i, have, a, date...|[date, sunday, wi...|\n",
            "| spam|XXXMobileMovieClu...|        149|[xxxmobilemoviecl...|[xxxmobilemoviecl...|\n",
            "|  ham|Oh k...i'm watchi...|         26|[oh, k...i'm, wat...|[oh, k...i'm, wat...|\n",
            "|  ham|Eh u remember how...|         81|[eh, u, remember,...|[eh, u, remember,...|\n",
            "|  ham|Fine if thats th...|         56|[fine, if, thats...|[fine, thats, wa...|\n",
            "| spam|England v Macedon...|        155|[england, v, mace...|[england, v, mace...|\n",
            "+-----+--------------------+-----------+--------------------+--------------------+\n",
            "only showing top 20 rows\n",
            "\n"
          ]
        }
      ],
      "source": [
        "from pyspark.sql import SparkSession\n",
        "from pyspark.sql.functions import udf, col, lower, regexp_replace\n",
        "from pyspark.ml.feature import Tokenizer, StopWordsRemover \n",
        "from nltk.stem.snowball import SnowballStemmer\n",
        "\n",
        "#Create a StopWordsRemover to remove the stop words from the column obtained from the Tokenizer\n",
        "remover = StopWordsRemover(inputCol='words', outputCol='words_clean')\n",
        "df_words_no_stopw = remover.transform(tokenized)\n",
        "df_words_no_stopw.show()\n",
        "\n",
        "#Create a CountVectorizer after removing the stop words.\n",
        "from pyspark.ml.feature import CountVectorizer\n",
        "import pyspark.ml.feature\n",
        "cvec = CountVectorizer(inputCol = \"words_clean\" , outputCol=\"features\")\n",
        "model = cvec.fit(df_words_no_stopw)\n",
        "\n",
        "#Create the TF-IDF from the CountVectorizer\n",
        "from pyspark.ml.feature import HashingTF, IDF, Tokenizer\n",
        "idf = IDF(inputCol=\"features\", outputCol=\"tf_idf\")\n",
        "\n",
        "\n"
      ]
    },
    {
      "cell_type": "markdown",
      "id": "1527ad65",
      "metadata": {
        "id": "1527ad65"
      },
      "source": [
        "- Convert the <b>class column</b> to index using <b>StringIndexer</b>\n",
        "- Create feature column from the <b>TF-IDF</b> and <b>lenght</b> columns."
      ]
    },
    {
      "cell_type": "code",
      "execution_count": 58,
      "id": "aaf46159",
      "metadata": {
        "id": "aaf46159"
      },
      "outputs": [],
      "source": [
        "from pyspark.ml.feature import StringIndexer, OneHotEncoder ,VectorAssembler\n",
        "\n",
        "ham_spam_to_num = StringIndexer(inputCol='class',outputCol='label')\n",
        "clean_up = VectorAssembler(inputCols=['tf_idf','length_text'],outputCol='feature')"
      ]
    },
    {
      "cell_type": "code",
      "execution_count": null,
      "id": "ad9d4c52",
      "metadata": {
        "id": "ad9d4c52"
      },
      "outputs": [],
      "source": [
        ""
      ]
    },
    {
      "cell_type": "markdown",
      "id": "9775d494",
      "metadata": {
        "id": "9775d494"
      },
      "source": [
        "## The Model\n",
        "- Create a <b>NaiveBayes</b> classifier with the default parameters."
      ]
    },
    {
      "cell_type": "code",
      "execution_count": 59,
      "id": "57af0d5d",
      "metadata": {
        "id": "57af0d5d"
      },
      "outputs": [],
      "source": [
        "from pyspark.ml.classification import NaiveBayes\n",
        "# Use defaults\n",
        "nb = NaiveBayes()"
      ]
    },
    {
      "cell_type": "code",
      "execution_count": null,
      "id": "54c7384e",
      "metadata": {
        "id": "54c7384e"
      },
      "outputs": [],
      "source": [
        ""
      ]
    },
    {
      "cell_type": "markdown",
      "id": "dc14de63",
      "metadata": {
        "id": "dc14de63"
      },
      "source": [
        "## Pipeline\n",
        "### Create a pipeline model contains all the steps starting from the Tokenizer to the NaiveBays classifier."
      ]
    },
    {
      "cell_type": "code",
      "execution_count": 60,
      "id": "8ee0d1ca",
      "metadata": {
        "id": "8ee0d1ca"
      },
      "outputs": [],
      "source": [
        "from pyspark.ml import Pipeline\n",
        "data_prep_pipe = Pipeline(stages=[ham_spam_to_num , tokenizer , remover , model , idf , clean_up])\n",
        "cleaner = data_prep_pipe.fit(df)"
      ]
    },
    {
      "cell_type": "code",
      "execution_count": 62,
      "id": "7f82bab0",
      "metadata": {
        "colab": {
          "base_uri": "https://localhost:8080/"
        },
        "id": "7f82bab0",
        "outputId": "d23257ef-3904-4099-a710-7e386b3c02a4"
      },
      "outputs": [
        {
          "output_type": "stream",
          "name": "stdout",
          "text": [
            "+-----+--------------------+\n",
            "|label|            features|\n",
            "+-----+--------------------+\n",
            "|  0.0|(13422,[6,10,30,6...|\n",
            "|  0.0|(13422,[0,23,296,...|\n",
            "|  1.0|(13422,[2,12,18,2...|\n",
            "|  0.0|(13422,[0,69,79,1...|\n",
            "|  0.0|(13422,[35,131,31...|\n",
            "|  1.0|(13422,[9,59,139,...|\n",
            "|  0.0|(13422,[9,52,103,...|\n",
            "|  0.0|(13422,[124,184,4...|\n",
            "|  1.0|(13422,[1,46,118,...|\n",
            "|  1.0|(13422,[0,1,12,26...|\n",
            "|  0.0|(13422,[17,42,120...|\n",
            "|  1.0|(13422,[7,15,36,8...|\n",
            "|  1.0|(13422,[12,29,46,...|\n",
            "|  0.0|(13422,[38,95,216...|\n",
            "|  0.0|(13422,[549,1694,...|\n",
            "|  1.0|(13422,[29,107,10...|\n",
            "|  0.0|(13422,[81,211,47...|\n",
            "|  0.0|(13422,[0,2,48,13...|\n",
            "|  0.0|(13422,[0,73,101,...|\n",
            "|  1.0|(13422,[3,29,32,5...|\n",
            "+-----+--------------------+\n",
            "only showing top 20 rows\n",
            "\n"
          ]
        }
      ],
      "source": [
        "clean_data = cleaner.transform(df)\n",
        "clean_data = clean_data.select(['label','features'])\n",
        "clean_data.show()"
      ]
    },
    {
      "cell_type": "markdown",
      "id": "f5d7efbe",
      "metadata": {
        "id": "f5d7efbe"
      },
      "source": [
        "### Split your data to trian and test data with ratios 0.7 and 0.3 respectively."
      ]
    },
    {
      "cell_type": "code",
      "execution_count": 63,
      "id": "2843d997",
      "metadata": {
        "id": "2843d997"
      },
      "outputs": [],
      "source": [
        "(training,testing) = clean_data.randomSplit([0.7,0.3])\n"
      ]
    },
    {
      "cell_type": "markdown",
      "id": "8bcea576",
      "metadata": {
        "id": "8bcea576"
      },
      "source": [
        "### Fit your Pipeline model to the training data"
      ]
    },
    {
      "cell_type": "code",
      "execution_count": 64,
      "id": "3c5d4681",
      "metadata": {
        "id": "3c5d4681"
      },
      "outputs": [],
      "source": [
        "spam_predictor = nb.fit(training)\n"
      ]
    },
    {
      "cell_type": "markdown",
      "id": "228a3eb1",
      "metadata": {
        "id": "228a3eb1"
      },
      "source": [
        "### Perform predictions on tests dataframe"
      ]
    },
    {
      "cell_type": "code",
      "execution_count": 65,
      "id": "14f4aab5",
      "metadata": {
        "colab": {
          "base_uri": "https://localhost:8080/"
        },
        "id": "14f4aab5",
        "outputId": "5db7df42-0cbf-4635-d833-529eba696e15"
      },
      "outputs": [
        {
          "output_type": "stream",
          "name": "stdout",
          "text": [
            "+-----+--------------------+--------------------+--------------------+----------+\n",
            "|label|            features|       rawPrediction|         probability|prediction|\n",
            "+-----+--------------------+--------------------+--------------------+----------+\n",
            "|  0.0|(13422,[0,1,3,49,...|[-121.95557663872...|[0.99999998339641...|       0.0|\n",
            "|  0.0|(13422,[0,1,8,13,...|[-95.539114081548...|[0.99999999999732...|       0.0|\n",
            "|  0.0|(13422,[0,1,8,13,...|[-95.539114081548...|[0.99999999999732...|       0.0|\n",
            "|  0.0|(13422,[0,1,10,31...|[-140.04660237119...|[0.99999999996161...|       0.0|\n",
            "|  0.0|(13422,[0,1,14,19...|[-114.43959350143...|[0.99999999992814...|       0.0|\n",
            "|  0.0|(13422,[0,1,15,18...|[-120.20830803274...|[0.99999493510126...|       0.0|\n",
            "|  0.0|(13422,[0,1,17,20...|[-117.68543274588...|[0.99999911306138...|       0.0|\n",
            "|  0.0|(13422,[0,1,23,30...|[-59.870479281761...|[0.99999999699193...|       0.0|\n",
            "|  0.0|(13422,[0,1,26,34...|[-193.12945030878...|[0.99999987879348...|       0.0|\n",
            "|  0.0|(13422,[0,1,30,42...|[-56.655372242030...|[0.99999719665169...|       0.0|\n",
            "|  0.0|(13422,[0,1,876],...|[-18.567640409251...|[0.97071305065611...|       0.0|\n",
            "|  0.0|(13422,[0,2,3,4,1...|[-245.62775081861...|[0.99999999999999...|       0.0|\n",
            "|  0.0|(13422,[0,2,3,5,8...|[-179.84508477084...|[0.99999999921643...|       0.0|\n",
            "|  0.0|(13422,[0,2,3,6,2...|[-84.421143469673...|[0.99999997215003...|       0.0|\n",
            "|  0.0|(13422,[0,2,3,10,...|[-161.38274388786...|[0.99999999999972...|       0.0|\n",
            "|  0.0|(13422,[0,2,4,5,1...|[-340.28533578788...|[1.0,3.3776353140...|       0.0|\n",
            "|  0.0|(13422,[0,2,5,8,2...|[-447.97017038051...|[1.0,8.3426847650...|       0.0|\n",
            "|  0.0|(13422,[0,2,6,7,3...|[-189.22989192248...|[0.99999999999999...|       0.0|\n",
            "|  0.0|(13422,[0,2,6,26,...|[-67.308857763300...|[0.99930502148395...|       0.0|\n",
            "|  0.0|(13422,[0,2,6,42,...|[-100.88314984481...|[0.99999999999537...|       0.0|\n",
            "+-----+--------------------+--------------------+--------------------+----------+\n",
            "only showing top 20 rows\n",
            "\n"
          ]
        }
      ],
      "source": [
        "test_results = spam_predictor.transform(testing)\n",
        "test_results.show()"
      ]
    },
    {
      "cell_type": "markdown",
      "id": "bce2885f",
      "metadata": {
        "id": "bce2885f"
      },
      "source": [
        "### Print the schema of the prediction dataframe"
      ]
    },
    {
      "cell_type": "code",
      "execution_count": 66,
      "id": "6e3ea341",
      "metadata": {
        "colab": {
          "base_uri": "https://localhost:8080/"
        },
        "id": "6e3ea341",
        "outputId": "18649067-a614-4f49-c63d-fdb2e639e5e0"
      },
      "outputs": [
        {
          "output_type": "stream",
          "name": "stdout",
          "text": [
            "root\n",
            " |-- label: double (nullable = false)\n",
            " |-- features: vector (nullable = true)\n",
            " |-- rawPrediction: vector (nullable = true)\n",
            " |-- probability: vector (nullable = true)\n",
            " |-- prediction: double (nullable = false)\n",
            "\n"
          ]
        }
      ],
      "source": [
        "test_results.printSchema()\n"
      ]
    },
    {
      "cell_type": "markdown",
      "id": "57f27055",
      "metadata": {
        "id": "57f27055"
      },
      "source": [
        "## Model Evaluation\n",
        "- Use <b>MulticlassClassificationEvaluator</b> to calculate the <b>f1_score</b>."
      ]
    },
    {
      "cell_type": "code",
      "execution_count": 68,
      "id": "61911086",
      "metadata": {
        "colab": {
          "base_uri": "https://localhost:8080/"
        },
        "id": "61911086",
        "outputId": "fd295fe6-73cf-4c06-c45e-ac8b6251cf12"
      },
      "outputs": [
        {
          "output_type": "stream",
          "name": "stdout",
          "text": [
            "Accuracy of model during predicting spam was: 0.9661277058128581\n"
          ]
        }
      ],
      "source": [
        "from pyspark.ml.evaluation import MulticlassClassificationEvaluator\n",
        "acc_eval = MulticlassClassificationEvaluator()\n",
        "acc = acc_eval.evaluate(test_results)\n",
        "print(\"Accuracy of model during predicting spam was: {}\".format(acc))"
      ]
    },
    {
      "cell_type": "code",
      "execution_count": null,
      "id": "be706565",
      "metadata": {
        "id": "be706565"
      },
      "outputs": [],
      "source": [
        ""
      ]
    },
    {
      "cell_type": "code",
      "execution_count": null,
      "id": "af1f9ba1",
      "metadata": {
        "id": "af1f9ba1",
        "outputId": "c6287403-d2ea-4d5f-deb7-3520bc85e9c6"
      },
      "outputs": [
        {
          "name": "stdout",
          "output_type": "stream",
          "text": [
            "f1_score is: 0.9664707489549014\n"
          ]
        }
      ],
      "source": [
        ""
      ]
    },
    {
      "cell_type": "markdown",
      "id": "e00e7b53",
      "metadata": {
        "id": "e00e7b53"
      },
      "source": [
        "# GOOD LUCK\n",
        "<b><font color='GREEN'>AI-PRO Spark Team ITI</font></b>"
      ]
    },
    {
      "cell_type": "markdown",
      "id": "0e065922",
      "metadata": {
        "id": "0e065922"
      },
      "source": [
        "![image-3.png](attachment:image-3.png)"
      ]
    }
  ],
  "metadata": {
    "kernelspec": {
      "display_name": "Python 3",
      "language": "python",
      "name": "python3"
    },
    "language_info": {
      "codemirror_mode": {
        "name": "ipython",
        "version": 3
      },
      "file_extension": ".py",
      "mimetype": "text/x-python",
      "name": "python",
      "nbconvert_exporter": "python",
      "pygments_lexer": "ipython3",
      "version": "3.8.8"
    },
    "colab": {
      "name": "Spark and Python for Big Data Final Exam-Corrective.ipynb",
      "provenance": []
    }
  },
  "nbformat": 4,
  "nbformat_minor": 5
}