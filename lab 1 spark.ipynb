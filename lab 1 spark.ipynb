{
  "nbformat": 4,
  "nbformat_minor": 0,
  "metadata": {
    "colab": {
      "name": "Untitled2.ipynb",
      "provenance": [],
      "collapsed_sections": []
    },
    "kernelspec": {
      "name": "python3",
      "display_name": "Python 3"
    },
    "language_info": {
      "name": "python"
    }
  },
  "cells": [
    {
      "cell_type": "code",
      "execution_count": 1,
      "metadata": {
        "colab": {
          "base_uri": "https://localhost:8080/"
        },
        "id": "-J0F3MtcxQPo",
        "outputId": "b314d323-e2bb-4656-e3c9-571fe774ddce"
      },
      "outputs": [
        {
          "output_type": "stream",
          "name": "stdout",
          "text": [
            "Looking in indexes: https://pypi.org/simple, https://us-python.pkg.dev/colab-wheels/public/simple/\n",
            "Collecting pyspark\n",
            "  Downloading pyspark-3.3.0.tar.gz (281.3 MB)\n",
            "\u001b[K     |████████████████████████████████| 281.3 MB 42 kB/s \n",
            "\u001b[?25hCollecting py4j==0.10.9.5\n",
            "  Downloading py4j-0.10.9.5-py2.py3-none-any.whl (199 kB)\n",
            "\u001b[K     |████████████████████████████████| 199 kB 47.7 MB/s \n",
            "\u001b[?25hBuilding wheels for collected packages: pyspark\n",
            "  Building wheel for pyspark (setup.py) ... \u001b[?25l\u001b[?25hdone\n",
            "  Created wheel for pyspark: filename=pyspark-3.3.0-py2.py3-none-any.whl size=281764026 sha256=defe006c97a113dd4071a910d9d8466b14acde61d887da2a7908b2896f1b30d0\n",
            "  Stored in directory: /root/.cache/pip/wheels/7a/8e/1b/f73a52650d2e5f337708d9f6a1750d451a7349a867f928b885\n",
            "Successfully built pyspark\n",
            "Installing collected packages: py4j, pyspark\n",
            "Successfully installed py4j-0.10.9.5 pyspark-3.3.0\n"
          ]
        }
      ],
      "source": [
        "pip install pyspark\n"
      ]
    },
    {
      "cell_type": "code",
      "source": [
        "import pyspark"
      ],
      "metadata": {
        "id": "nBAUJjW-x1NA"
      },
      "execution_count": 2,
      "outputs": []
    },
    {
      "cell_type": "code",
      "source": [
        "from pyspark.sql.functions import *\n",
        "from pyspark.sql.types import *\n"
      ],
      "metadata": {
        "id": "PbqY52Shzw2T"
      },
      "execution_count": 4,
      "outputs": []
    },
    {
      "cell_type": "code",
      "source": [
        "from pyspark.sql import SparkSession\n",
        "spark = SparkSession.builder.appName(\"Practical_Day_1_DF_SQL_ML\").getOrCreate()"
      ],
      "metadata": {
        "id": "OdDAGSV4A2Yu"
      },
      "execution_count": 5,
      "outputs": []
    },
    {
      "cell_type": "code",
      "source": [
        "data = spark.read.csv(\"PatientInfo.csv\", header=True, inferSchema=True)\n",
        "data.show()"
      ],
      "metadata": {
        "colab": {
          "base_uri": "https://localhost:8080/"
        },
        "id": "v2D670NeCP31",
        "outputId": "bec1fe09-bee8-4170-caec-aaa128244a6b"
      },
      "execution_count": 7,
      "outputs": [
        {
          "output_type": "stream",
          "name": "stdout",
          "text": [
            "+----------+------+---+-------+--------+------------+--------------------+-----------+--------------+------------------+-------------------+-------------------+-------------+--------+\n",
            "|patient_id|   sex|age|country|province|        city|      infection_case|infected_by|contact_number|symptom_onset_date|     confirmed_date|      released_date|deceased_date|   state|\n",
            "+----------+------+---+-------+--------+------------+--------------------+-----------+--------------+------------------+-------------------+-------------------+-------------+--------+\n",
            "|1000000001|  male|50s|  Korea|   Seoul|  Gangseo-gu|     overseas inflow|       null|            75|        2020-01-22|2020-01-23 00:00:00|2020-02-05 00:00:00|         null|released|\n",
            "|1000000002|  male|30s|  Korea|   Seoul| Jungnang-gu|     overseas inflow|       null|            31|              null|2020-01-30 00:00:00|2020-03-02 00:00:00|         null|released|\n",
            "|1000000003|  male|50s|  Korea|   Seoul|   Jongno-gu|contact with patient| 2002000001|            17|              null|2020-01-30 00:00:00|2020-02-19 00:00:00|         null|released|\n",
            "|1000000004|  male|20s|  Korea|   Seoul|     Mapo-gu|     overseas inflow|       null|             9|        2020-01-26|2020-01-30 00:00:00|2020-02-15 00:00:00|         null|released|\n",
            "|1000000005|female|20s|  Korea|   Seoul| Seongbuk-gu|contact with patient| 1000000002|             2|              null|2020-01-31 00:00:00|2020-02-24 00:00:00|         null|released|\n",
            "|1000000006|female|50s|  Korea|   Seoul|   Jongno-gu|contact with patient| 1000000003|            43|              null|2020-01-31 00:00:00|2020-02-19 00:00:00|         null|released|\n",
            "|1000000007|  male|20s|  Korea|   Seoul|   Jongno-gu|contact with patient| 1000000003|             0|              null|2020-01-31 00:00:00|2020-02-10 00:00:00|         null|released|\n",
            "|1000000008|  male|20s|  Korea|   Seoul|         etc|     overseas inflow|       null|             0|              null|2020-02-02 00:00:00|2020-02-24 00:00:00|         null|released|\n",
            "|1000000009|  male|30s|  Korea|   Seoul|   Songpa-gu|     overseas inflow|       null|            68|              null|2020-02-05 00:00:00|2020-02-21 00:00:00|         null|released|\n",
            "|1000000010|female|60s|  Korea|   Seoul| Seongbuk-gu|contact with patient| 1000000003|             6|              null|2020-02-05 00:00:00|2020-02-29 00:00:00|         null|released|\n",
            "|1000000011|female|50s|  China|   Seoul|Seodaemun-gu|     overseas inflow|       null|            23|              null|2020-02-06 00:00:00|2020-02-29 00:00:00|         null|released|\n",
            "|1000000012|  male|20s|  Korea|   Seoul|         etc|     overseas inflow|       null|             0|              null|2020-02-07 00:00:00|2020-02-27 00:00:00|         null|released|\n",
            "|1000000013|  male|80s|  Korea|   Seoul|   Jongno-gu|contact with patient| 1000000017|           117|              null|2020-02-16 00:00:00|               null|         null|deceased|\n",
            "|1000000014|female|60s|  Korea|   Seoul|   Jongno-gu|contact with patient| 1000000013|            27|        2020-02-06|2020-02-16 00:00:00|2020-03-12 00:00:00|         null|released|\n",
            "|1000000015|  male|70s|  Korea|   Seoul|Seongdong-gu|    Seongdong-gu APT|       null|             8|        2020-02-11|2020-02-19 00:00:00|               null|         null|released|\n",
            "|1000000016|  male|70s|  Korea|   Seoul|   Jongno-gu|contact with patient| 1000000017|          null|              null|2020-02-19 00:00:00|2020-03-11 00:00:00|         null|released|\n",
            "|1000000017|  male|70s|  Korea|   Seoul|   Jongno-gu|contact with patient| 1000000003|          null|              null|2020-02-20 00:00:00|2020-03-01 00:00:00|         null|released|\n",
            "|1000000018|  male|20s|  Korea|   Seoul|         etc|                 etc|       null|          null|              null|2020-02-20 00:00:00|               null|         null|released|\n",
            "|1000000019|female|70s|  Korea|   Seoul|   Jongno-gu|contact with patient| 1000000021|          null|              null|2020-02-20 00:00:00|2020-03-08 00:00:00|         null|released|\n",
            "|1000000020|female|70s|  Korea|   Seoul|Seongdong-gu|    Seongdong-gu APT| 1000000015|          null|              null|2020-02-20 00:00:00|               null|         null|released|\n",
            "+----------+------+---+-------+--------+------------+--------------------+-----------+--------------+------------------+-------------------+-------------------+-------------+--------+\n",
            "only showing top 20 rows\n",
            "\n"
          ]
        }
      ]
    },
    {
      "cell_type": "code",
      "source": [
        "data.printSchema()"
      ],
      "metadata": {
        "colab": {
          "base_uri": "https://localhost:8080/"
        },
        "id": "TVIC_2Y1DXJi",
        "outputId": "b70d4d13-7e34-444f-8f70-f17a10c7c5a0"
      },
      "execution_count": 8,
      "outputs": [
        {
          "output_type": "stream",
          "name": "stdout",
          "text": [
            "root\n",
            " |-- patient_id: long (nullable = true)\n",
            " |-- sex: string (nullable = true)\n",
            " |-- age: string (nullable = true)\n",
            " |-- country: string (nullable = true)\n",
            " |-- province: string (nullable = true)\n",
            " |-- city: string (nullable = true)\n",
            " |-- infection_case: string (nullable = true)\n",
            " |-- infected_by: string (nullable = true)\n",
            " |-- contact_number: string (nullable = true)\n",
            " |-- symptom_onset_date: string (nullable = true)\n",
            " |-- confirmed_date: timestamp (nullable = true)\n",
            " |-- released_date: timestamp (nullable = true)\n",
            " |-- deceased_date: timestamp (nullable = true)\n",
            " |-- state: string (nullable = true)\n",
            "\n"
          ]
        }
      ]
    },
    {
      "cell_type": "code",
      "source": [
        "data.describe().show()"
      ],
      "metadata": {
        "colab": {
          "base_uri": "https://localhost:8080/"
        },
        "id": "a01fOb7wD9WX",
        "outputId": "f5b5ae16-4916-4b08-c215-778196705760"
      },
      "execution_count": 9,
      "outputs": [
        {
          "output_type": "stream",
          "name": "stdout",
          "text": [
            "+-------+--------------------+------+----+----------+--------+--------------+--------------------+--------------------+--------------------+------------------+--------+\n",
            "|summary|          patient_id|   sex| age|   country|province|          city|      infection_case|         infected_by|      contact_number|symptom_onset_date|   state|\n",
            "+-------+--------------------+------+----+----------+--------+--------------+--------------------+--------------------+--------------------+------------------+--------+\n",
            "|  count|                5165|  4043|3785|      5165|    5165|          5071|                4246|                1346|                 791|               690|    5165|\n",
            "|   mean|2.8636345618679576E9|  null|null|      null|    null|          null|                null|2.2845944015643125E9|1.6772572523506988E7|              null|    null|\n",
            "| stddev| 2.074210725277473E9|  null|null|      null|    null|          null|                null|1.5265072953383324E9| 3.093097580985502E8|              null|    null|\n",
            "|    min|          1000000001|female|  0s|Bangladesh|   Busan|     Andong-si|Anyang Gunpo Past...|          1000000002|                   -|                  |deceased|\n",
            "|    max|          7000000019|  male| 90s|   Vietnam|   Ulsan|sankyeock-dong|     overseas inflow|          7000000009|                  95|        2020-06-28|released|\n",
            "+-------+--------------------+------+----+----------+--------+--------------+--------------------+--------------------+--------------------+------------------+--------+\n",
            "\n"
          ]
        }
      ]
    },
    {
      "cell_type": "code",
      "source": [
        "data.groupBy(\"state\").count().show()"
      ],
      "metadata": {
        "colab": {
          "base_uri": "https://localhost:8080/"
        },
        "id": "XN0ta_sGEMlE",
        "outputId": "d900292d-927e-4819-d326-271d5ea92a51"
      },
      "execution_count": 10,
      "outputs": [
        {
          "output_type": "stream",
          "name": "stdout",
          "text": [
            "+--------+-----+\n",
            "|   state|count|\n",
            "+--------+-----+\n",
            "|isolated| 2158|\n",
            "|released| 2929|\n",
            "|deceased|   78|\n",
            "+--------+-----+\n",
            "\n"
          ]
        }
      ]
    },
    {
      "cell_type": "code",
      "source": [
        "data.select([count(when(col(c).isNull(), c)).alias(c) for c in data.columns]).show()"
      ],
      "metadata": {
        "colab": {
          "base_uri": "https://localhost:8080/"
        },
        "id": "og9yfL3AEu3I",
        "outputId": "72240402-e605-444a-f779-80d375a26837"
      },
      "execution_count": 11,
      "outputs": [
        {
          "output_type": "stream",
          "name": "stdout",
          "text": [
            "+----------+----+----+-------+--------+----+--------------+-----------+--------------+------------------+--------------+-------------+-------------+-----+\n",
            "|patient_id| sex| age|country|province|city|infection_case|infected_by|contact_number|symptom_onset_date|confirmed_date|released_date|deceased_date|state|\n",
            "+----------+----+----+-------+--------+----+--------------+-----------+--------------+------------------+--------------+-------------+-------------+-----+\n",
            "|         0|1122|1380|      0|       0|  94|           919|       3819|          4374|              4475|             3|         3578|         5099|    0|\n",
            "+----------+----+----+-------+--------+----+--------------+-----------+--------------+------------------+--------------+-------------+-------------+-----+\n",
            "\n"
          ]
        }
      ]
    },
    {
      "cell_type": "code",
      "source": [
        "datacopy = data.withColumn(\"deceased_date\", coalesce(data.deceased_date, data.released_date))"
      ],
      "metadata": {
        "id": "v5U2BpoaGbh0"
      },
      "execution_count": 12,
      "outputs": []
    },
    {
      "cell_type": "code",
      "source": [
        "datacopy = data.withColumn(\"deceased_date\", coalesce(data.deceased_date, data.released_date))"
      ],
      "metadata": {
        "id": "l476SFaTILRT"
      },
      "execution_count": 13,
      "outputs": []
    },
    {
      "cell_type": "code",
      "source": [
        "#Add a column named no_days which is difference between the deceased_date and the confirmed_date then show the top 5 rows. Print the schema.\n",
        "#Hint: You need to typecast these columns as date first\n",
        "\n",
        "sdata = datacopy.withColumn(\"no_days\", datediff(datacopy.deceased_date, datacopy.confirmed_date).cast(\"int\"))"
      ],
      "metadata": {
        "id": "_vlXvd4tI_k4"
      },
      "execution_count": 14,
      "outputs": []
    },
    {
      "cell_type": "code",
      "source": [
        "#### Add a is_male column if male then it should yield true, else then False\n",
        "sdata.select(col(\"sex\") == \"male\").show()"
      ],
      "metadata": {
        "colab": {
          "base_uri": "https://localhost:8080/"
        },
        "id": "2ZXB3StfJNOF",
        "outputId": "78cb1b0f-5ba9-4520-ae72-aa9c036d9ea8"
      },
      "execution_count": 15,
      "outputs": [
        {
          "output_type": "stream",
          "name": "stdout",
          "text": [
            "+------------+\n",
            "|(sex = male)|\n",
            "+------------+\n",
            "|        true|\n",
            "|        true|\n",
            "|        true|\n",
            "|        true|\n",
            "|       false|\n",
            "|       false|\n",
            "|        true|\n",
            "|        true|\n",
            "|        true|\n",
            "|       false|\n",
            "|       false|\n",
            "|        true|\n",
            "|        true|\n",
            "|       false|\n",
            "|        true|\n",
            "|        true|\n",
            "|        true|\n",
            "|        true|\n",
            "|       false|\n",
            "|       false|\n",
            "+------------+\n",
            "only showing top 20 rows\n",
            "\n"
          ]
        }
      ]
    },
    {
      "cell_type": "code",
      "source": [
        "wismale = sdata.withColumn(\"is_male\", col(\"sex\") == \"male\")\n",
        "wismale.show()"
      ],
      "metadata": {
        "colab": {
          "base_uri": "https://localhost:8080/"
        },
        "id": "CwXjimXYKhA_",
        "outputId": "ffa4b897-f07f-4803-f9d1-cb4341379432"
      },
      "execution_count": 16,
      "outputs": [
        {
          "output_type": "stream",
          "name": "stdout",
          "text": [
            "+----------+------+---+-------+--------+------------+--------------------+-----------+--------------+------------------+-------------------+-------------------+-------------------+--------+-------+-------+\n",
            "|patient_id|   sex|age|country|province|        city|      infection_case|infected_by|contact_number|symptom_onset_date|     confirmed_date|      released_date|      deceased_date|   state|no_days|is_male|\n",
            "+----------+------+---+-------+--------+------------+--------------------+-----------+--------------+------------------+-------------------+-------------------+-------------------+--------+-------+-------+\n",
            "|1000000001|  male|50s|  Korea|   Seoul|  Gangseo-gu|     overseas inflow|       null|            75|        2020-01-22|2020-01-23 00:00:00|2020-02-05 00:00:00|2020-02-05 00:00:00|released|     13|   true|\n",
            "|1000000002|  male|30s|  Korea|   Seoul| Jungnang-gu|     overseas inflow|       null|            31|              null|2020-01-30 00:00:00|2020-03-02 00:00:00|2020-03-02 00:00:00|released|     32|   true|\n",
            "|1000000003|  male|50s|  Korea|   Seoul|   Jongno-gu|contact with patient| 2002000001|            17|              null|2020-01-30 00:00:00|2020-02-19 00:00:00|2020-02-19 00:00:00|released|     20|   true|\n",
            "|1000000004|  male|20s|  Korea|   Seoul|     Mapo-gu|     overseas inflow|       null|             9|        2020-01-26|2020-01-30 00:00:00|2020-02-15 00:00:00|2020-02-15 00:00:00|released|     16|   true|\n",
            "|1000000005|female|20s|  Korea|   Seoul| Seongbuk-gu|contact with patient| 1000000002|             2|              null|2020-01-31 00:00:00|2020-02-24 00:00:00|2020-02-24 00:00:00|released|     24|  false|\n",
            "|1000000006|female|50s|  Korea|   Seoul|   Jongno-gu|contact with patient| 1000000003|            43|              null|2020-01-31 00:00:00|2020-02-19 00:00:00|2020-02-19 00:00:00|released|     19|  false|\n",
            "|1000000007|  male|20s|  Korea|   Seoul|   Jongno-gu|contact with patient| 1000000003|             0|              null|2020-01-31 00:00:00|2020-02-10 00:00:00|2020-02-10 00:00:00|released|     10|   true|\n",
            "|1000000008|  male|20s|  Korea|   Seoul|         etc|     overseas inflow|       null|             0|              null|2020-02-02 00:00:00|2020-02-24 00:00:00|2020-02-24 00:00:00|released|     22|   true|\n",
            "|1000000009|  male|30s|  Korea|   Seoul|   Songpa-gu|     overseas inflow|       null|            68|              null|2020-02-05 00:00:00|2020-02-21 00:00:00|2020-02-21 00:00:00|released|     16|   true|\n",
            "|1000000010|female|60s|  Korea|   Seoul| Seongbuk-gu|contact with patient| 1000000003|             6|              null|2020-02-05 00:00:00|2020-02-29 00:00:00|2020-02-29 00:00:00|released|     24|  false|\n",
            "|1000000011|female|50s|  China|   Seoul|Seodaemun-gu|     overseas inflow|       null|            23|              null|2020-02-06 00:00:00|2020-02-29 00:00:00|2020-02-29 00:00:00|released|     23|  false|\n",
            "|1000000012|  male|20s|  Korea|   Seoul|         etc|     overseas inflow|       null|             0|              null|2020-02-07 00:00:00|2020-02-27 00:00:00|2020-02-27 00:00:00|released|     20|   true|\n",
            "|1000000013|  male|80s|  Korea|   Seoul|   Jongno-gu|contact with patient| 1000000017|           117|              null|2020-02-16 00:00:00|               null|               null|deceased|   null|   true|\n",
            "|1000000014|female|60s|  Korea|   Seoul|   Jongno-gu|contact with patient| 1000000013|            27|        2020-02-06|2020-02-16 00:00:00|2020-03-12 00:00:00|2020-03-12 00:00:00|released|     25|  false|\n",
            "|1000000015|  male|70s|  Korea|   Seoul|Seongdong-gu|    Seongdong-gu APT|       null|             8|        2020-02-11|2020-02-19 00:00:00|               null|               null|released|   null|   true|\n",
            "|1000000016|  male|70s|  Korea|   Seoul|   Jongno-gu|contact with patient| 1000000017|          null|              null|2020-02-19 00:00:00|2020-03-11 00:00:00|2020-03-11 00:00:00|released|     21|   true|\n",
            "|1000000017|  male|70s|  Korea|   Seoul|   Jongno-gu|contact with patient| 1000000003|          null|              null|2020-02-20 00:00:00|2020-03-01 00:00:00|2020-03-01 00:00:00|released|     10|   true|\n",
            "|1000000018|  male|20s|  Korea|   Seoul|         etc|                 etc|       null|          null|              null|2020-02-20 00:00:00|               null|               null|released|   null|   true|\n",
            "|1000000019|female|70s|  Korea|   Seoul|   Jongno-gu|contact with patient| 1000000021|          null|              null|2020-02-20 00:00:00|2020-03-08 00:00:00|2020-03-08 00:00:00|released|     17|  false|\n",
            "|1000000020|female|70s|  Korea|   Seoul|Seongdong-gu|    Seongdong-gu APT| 1000000015|          null|              null|2020-02-20 00:00:00|               null|               null|released|   null|  false|\n",
            "+----------+------+---+-------+--------+------------+--------------------+-----------+--------------+------------------+-------------------+-------------------+-------------------+--------+-------+-------+\n",
            "only showing top 20 rows\n",
            "\n"
          ]
        }
      ]
    },
    {
      "cell_type": "code",
      "source": [
        "#Add a is_dead column if patient state is not released then it should yield true, else then False\n",
        "isdead = wismale.withColumn(\"is_dead\", col(\"state\") != \"released\")\n",
        "isdead.show()"
      ],
      "metadata": {
        "colab": {
          "base_uri": "https://localhost:8080/"
        },
        "id": "iv01f2u-Kqvx",
        "outputId": "23399cee-135a-43cd-d63d-1f5f8a1597c8"
      },
      "execution_count": 17,
      "outputs": [
        {
          "output_type": "stream",
          "name": "stdout",
          "text": [
            "+----------+------+---+-------+--------+------------+--------------------+-----------+--------------+------------------+-------------------+-------------------+-------------------+--------+-------+-------+-------+\n",
            "|patient_id|   sex|age|country|province|        city|      infection_case|infected_by|contact_number|symptom_onset_date|     confirmed_date|      released_date|      deceased_date|   state|no_days|is_male|is_dead|\n",
            "+----------+------+---+-------+--------+------------+--------------------+-----------+--------------+------------------+-------------------+-------------------+-------------------+--------+-------+-------+-------+\n",
            "|1000000001|  male|50s|  Korea|   Seoul|  Gangseo-gu|     overseas inflow|       null|            75|        2020-01-22|2020-01-23 00:00:00|2020-02-05 00:00:00|2020-02-05 00:00:00|released|     13|   true|  false|\n",
            "|1000000002|  male|30s|  Korea|   Seoul| Jungnang-gu|     overseas inflow|       null|            31|              null|2020-01-30 00:00:00|2020-03-02 00:00:00|2020-03-02 00:00:00|released|     32|   true|  false|\n",
            "|1000000003|  male|50s|  Korea|   Seoul|   Jongno-gu|contact with patient| 2002000001|            17|              null|2020-01-30 00:00:00|2020-02-19 00:00:00|2020-02-19 00:00:00|released|     20|   true|  false|\n",
            "|1000000004|  male|20s|  Korea|   Seoul|     Mapo-gu|     overseas inflow|       null|             9|        2020-01-26|2020-01-30 00:00:00|2020-02-15 00:00:00|2020-02-15 00:00:00|released|     16|   true|  false|\n",
            "|1000000005|female|20s|  Korea|   Seoul| Seongbuk-gu|contact with patient| 1000000002|             2|              null|2020-01-31 00:00:00|2020-02-24 00:00:00|2020-02-24 00:00:00|released|     24|  false|  false|\n",
            "|1000000006|female|50s|  Korea|   Seoul|   Jongno-gu|contact with patient| 1000000003|            43|              null|2020-01-31 00:00:00|2020-02-19 00:00:00|2020-02-19 00:00:00|released|     19|  false|  false|\n",
            "|1000000007|  male|20s|  Korea|   Seoul|   Jongno-gu|contact with patient| 1000000003|             0|              null|2020-01-31 00:00:00|2020-02-10 00:00:00|2020-02-10 00:00:00|released|     10|   true|  false|\n",
            "|1000000008|  male|20s|  Korea|   Seoul|         etc|     overseas inflow|       null|             0|              null|2020-02-02 00:00:00|2020-02-24 00:00:00|2020-02-24 00:00:00|released|     22|   true|  false|\n",
            "|1000000009|  male|30s|  Korea|   Seoul|   Songpa-gu|     overseas inflow|       null|            68|              null|2020-02-05 00:00:00|2020-02-21 00:00:00|2020-02-21 00:00:00|released|     16|   true|  false|\n",
            "|1000000010|female|60s|  Korea|   Seoul| Seongbuk-gu|contact with patient| 1000000003|             6|              null|2020-02-05 00:00:00|2020-02-29 00:00:00|2020-02-29 00:00:00|released|     24|  false|  false|\n",
            "|1000000011|female|50s|  China|   Seoul|Seodaemun-gu|     overseas inflow|       null|            23|              null|2020-02-06 00:00:00|2020-02-29 00:00:00|2020-02-29 00:00:00|released|     23|  false|  false|\n",
            "|1000000012|  male|20s|  Korea|   Seoul|         etc|     overseas inflow|       null|             0|              null|2020-02-07 00:00:00|2020-02-27 00:00:00|2020-02-27 00:00:00|released|     20|   true|  false|\n",
            "|1000000013|  male|80s|  Korea|   Seoul|   Jongno-gu|contact with patient| 1000000017|           117|              null|2020-02-16 00:00:00|               null|               null|deceased|   null|   true|   true|\n",
            "|1000000014|female|60s|  Korea|   Seoul|   Jongno-gu|contact with patient| 1000000013|            27|        2020-02-06|2020-02-16 00:00:00|2020-03-12 00:00:00|2020-03-12 00:00:00|released|     25|  false|  false|\n",
            "|1000000015|  male|70s|  Korea|   Seoul|Seongdong-gu|    Seongdong-gu APT|       null|             8|        2020-02-11|2020-02-19 00:00:00|               null|               null|released|   null|   true|  false|\n",
            "|1000000016|  male|70s|  Korea|   Seoul|   Jongno-gu|contact with patient| 1000000017|          null|              null|2020-02-19 00:00:00|2020-03-11 00:00:00|2020-03-11 00:00:00|released|     21|   true|  false|\n",
            "|1000000017|  male|70s|  Korea|   Seoul|   Jongno-gu|contact with patient| 1000000003|          null|              null|2020-02-20 00:00:00|2020-03-01 00:00:00|2020-03-01 00:00:00|released|     10|   true|  false|\n",
            "|1000000018|  male|20s|  Korea|   Seoul|         etc|                 etc|       null|          null|              null|2020-02-20 00:00:00|               null|               null|released|   null|   true|  false|\n",
            "|1000000019|female|70s|  Korea|   Seoul|   Jongno-gu|contact with patient| 1000000021|          null|              null|2020-02-20 00:00:00|2020-03-08 00:00:00|2020-03-08 00:00:00|released|     17|  false|  false|\n",
            "|1000000020|female|70s|  Korea|   Seoul|Seongdong-gu|    Seongdong-gu APT| 1000000015|          null|              null|2020-02-20 00:00:00|               null|               null|released|   null|  false|  false|\n",
            "+----------+------+---+-------+--------+------------+--------------------+-----------+--------------+------------------+-------------------+-------------------+-------------------+--------+-------+-------+-------+\n",
            "only showing top 20 rows\n",
            "\n"
          ]
        }
      ]
    },
    {
      "cell_type": "code",
      "source": [
        "# Change the ages to bins from 10s, 0s, 10s, 20s,.etc to 0,10, 20\n",
        "@udf\n",
        "def age_bins(age):\n",
        "    if age is None or age is None:\n",
        "        return age\n",
        "    age = age.split(\"s\")[0]\n",
        "    return age\n",
        "afterages = isdead.withColumn(\"age\", age_bins(isdead.age))\n",
        "afterages.show(5)"
      ],
      "metadata": {
        "colab": {
          "base_uri": "https://localhost:8080/"
        },
        "id": "2SUiuUmxLpHJ",
        "outputId": "cd3d4afb-dfa4-4c22-e249-c4ec634460d4"
      },
      "execution_count": 19,
      "outputs": [
        {
          "output_type": "stream",
          "name": "stdout",
          "text": [
            "+----------+------+---+-------+--------+-----------+--------------------+-----------+--------------+------------------+-------------------+-------------------+-------------------+--------+-------+-------+-------+\n",
            "|patient_id|   sex|age|country|province|       city|      infection_case|infected_by|contact_number|symptom_onset_date|     confirmed_date|      released_date|      deceased_date|   state|no_days|is_male|is_dead|\n",
            "+----------+------+---+-------+--------+-----------+--------------------+-----------+--------------+------------------+-------------------+-------------------+-------------------+--------+-------+-------+-------+\n",
            "|1000000001|  male| 50|  Korea|   Seoul| Gangseo-gu|     overseas inflow|       null|            75|        2020-01-22|2020-01-23 00:00:00|2020-02-05 00:00:00|2020-02-05 00:00:00|released|     13|   true|  false|\n",
            "|1000000002|  male| 30|  Korea|   Seoul|Jungnang-gu|     overseas inflow|       null|            31|              null|2020-01-30 00:00:00|2020-03-02 00:00:00|2020-03-02 00:00:00|released|     32|   true|  false|\n",
            "|1000000003|  male| 50|  Korea|   Seoul|  Jongno-gu|contact with patient| 2002000001|            17|              null|2020-01-30 00:00:00|2020-02-19 00:00:00|2020-02-19 00:00:00|released|     20|   true|  false|\n",
            "|1000000004|  male| 20|  Korea|   Seoul|    Mapo-gu|     overseas inflow|       null|             9|        2020-01-26|2020-01-30 00:00:00|2020-02-15 00:00:00|2020-02-15 00:00:00|released|     16|   true|  false|\n",
            "|1000000005|female| 20|  Korea|   Seoul|Seongbuk-gu|contact with patient| 1000000002|             2|              null|2020-01-31 00:00:00|2020-02-24 00:00:00|2020-02-24 00:00:00|released|     24|  false|  false|\n",
            "+----------+------+---+-------+--------+-----------+--------------------+-----------+--------------+------------------+-------------------+-------------------+-------------------+--------+-------+-------+-------+\n",
            "only showing top 5 rows\n",
            "\n"
          ]
        }
      ]
    },
    {
      "cell_type": "code",
      "source": [
        "#Change age, and no_days to be typecasted as Double\n",
        "datap = afterages.withColumn(\"age\", col(\"age\").cast(\"double\")).withColumn(\"no_days\", col(\"no_days\").cast(\"double\"))\n",
        "datap.show(5)"
      ],
      "metadata": {
        "colab": {
          "base_uri": "https://localhost:8080/"
        },
        "id": "AXQ870vRLzhI",
        "outputId": "b5fb6e26-f5f1-4cd5-ad9c-7722bc5b69fa"
      },
      "execution_count": 20,
      "outputs": [
        {
          "output_type": "stream",
          "name": "stdout",
          "text": [
            "+----------+------+----+-------+--------+-----------+--------------------+-----------+--------------+------------------+-------------------+-------------------+-------------------+--------+-------+-------+-------+\n",
            "|patient_id|   sex| age|country|province|       city|      infection_case|infected_by|contact_number|symptom_onset_date|     confirmed_date|      released_date|      deceased_date|   state|no_days|is_male|is_dead|\n",
            "+----------+------+----+-------+--------+-----------+--------------------+-----------+--------------+------------------+-------------------+-------------------+-------------------+--------+-------+-------+-------+\n",
            "|1000000001|  male|50.0|  Korea|   Seoul| Gangseo-gu|     overseas inflow|       null|            75|        2020-01-22|2020-01-23 00:00:00|2020-02-05 00:00:00|2020-02-05 00:00:00|released|   13.0|   true|  false|\n",
            "|1000000002|  male|30.0|  Korea|   Seoul|Jungnang-gu|     overseas inflow|       null|            31|              null|2020-01-30 00:00:00|2020-03-02 00:00:00|2020-03-02 00:00:00|released|   32.0|   true|  false|\n",
            "|1000000003|  male|50.0|  Korea|   Seoul|  Jongno-gu|contact with patient| 2002000001|            17|              null|2020-01-30 00:00:00|2020-02-19 00:00:00|2020-02-19 00:00:00|released|   20.0|   true|  false|\n",
            "|1000000004|  male|20.0|  Korea|   Seoul|    Mapo-gu|     overseas inflow|       null|             9|        2020-01-26|2020-01-30 00:00:00|2020-02-15 00:00:00|2020-02-15 00:00:00|released|   16.0|   true|  false|\n",
            "|1000000005|female|20.0|  Korea|   Seoul|Seongbuk-gu|contact with patient| 1000000002|             2|              null|2020-01-31 00:00:00|2020-02-24 00:00:00|2020-02-24 00:00:00|released|   24.0|  false|  false|\n",
            "+----------+------+----+-------+--------+-----------+--------------------+-----------+--------------+------------------+-------------------+-------------------+-------------------+--------+-------+-------+-------+\n",
            "only showing top 5 rows\n",
            "\n"
          ]
        }
      ]
    },
    {
      "cell_type": "code",
      "source": [
        "#Drop the columns\n",
        "ddata = datap.drop(\"patient_id\", \"sex\", \"infected_by\", \"contact_number\",\"released_date\",\"state\",\"symptom_onset_date\",\"confirmed_date\",\"deceased_date\",\"country\",\"no_days\", \"city\",\"infection_case\")\n",
        "ddata.show(5)"
      ],
      "metadata": {
        "colab": {
          "base_uri": "https://localhost:8080/"
        },
        "id": "gM4_bgIDMESU",
        "outputId": "4afde245-4970-4dc4-9a9e-9c9e1cfcd6a6"
      },
      "execution_count": 21,
      "outputs": [
        {
          "output_type": "stream",
          "name": "stdout",
          "text": [
            "+----+--------+-------+-------+\n",
            "| age|province|is_male|is_dead|\n",
            "+----+--------+-------+-------+\n",
            "|50.0|   Seoul|   true|  false|\n",
            "|30.0|   Seoul|   true|  false|\n",
            "|50.0|   Seoul|   true|  false|\n",
            "|20.0|   Seoul|   true|  false|\n",
            "|20.0|   Seoul|  false|  false|\n",
            "+----+--------+-------+-------+\n",
            "only showing top 5 rows\n",
            "\n"
          ]
        }
      ]
    },
    {
      "cell_type": "code",
      "source": [
        "#Recount the number of nulls now\n",
        "ddata.select([count(when(col(c).isNull(), c)).alias(c) for c in ddata.columns]).show()"
      ],
      "metadata": {
        "colab": {
          "base_uri": "https://localhost:8080/"
        },
        "id": "Xs66PWNLMPmW",
        "outputId": "3c1a0592-367c-4438-9aaa-22b0f6ed08e6"
      },
      "execution_count": 22,
      "outputs": [
        {
          "output_type": "stream",
          "name": "stdout",
          "text": [
            "+----+--------+-------+-------+\n",
            "| age|province|is_male|is_dead|\n",
            "+----+--------+-------+-------+\n",
            "|1380|       0|   1122|      0|\n",
            "+----+--------+-------+-------+\n",
            "\n"
          ]
        }
      ]
    },
    {
      "cell_type": "code",
      "source": [
        "#Now do the same but using SQL select statement\n",
        "#From the original Patient DataFrame, Create a temporary view (table).\n",
        "SQLdata = data.createOrReplaceTempView(\"SQLdata\")\n"
      ],
      "metadata": {
        "id": "YCnSA876MXrj"
      },
      "execution_count": 23,
      "outputs": []
    },
    {
      "cell_type": "code",
      "source": [
        "#Use SELECT statement to select all columns from the dataframe and show the output.\n",
        "Selectdata = spark.sql(\"SELECT * FROM SQLdata\")"
      ],
      "metadata": {
        "id": "Nn_snQkfMx6N"
      },
      "execution_count": 24,
      "outputs": []
    },
    {
      "cell_type": "code",
      "source": [
        "#Using SQL commands, limit the output to only 5 rows\n",
        "Selectdata.show()"
      ],
      "metadata": {
        "colab": {
          "base_uri": "https://localhost:8080/"
        },
        "id": "JhhuF1ptM31F",
        "outputId": "5c96684a-af42-49bf-e0cd-9be542a7b45d"
      },
      "execution_count": 25,
      "outputs": [
        {
          "output_type": "stream",
          "name": "stdout",
          "text": [
            "+----------+------+---+-------+--------+------------+--------------------+-----------+--------------+------------------+-------------------+-------------------+-------------+--------+\n",
            "|patient_id|   sex|age|country|province|        city|      infection_case|infected_by|contact_number|symptom_onset_date|     confirmed_date|      released_date|deceased_date|   state|\n",
            "+----------+------+---+-------+--------+------------+--------------------+-----------+--------------+------------------+-------------------+-------------------+-------------+--------+\n",
            "|1000000001|  male|50s|  Korea|   Seoul|  Gangseo-gu|     overseas inflow|       null|            75|        2020-01-22|2020-01-23 00:00:00|2020-02-05 00:00:00|         null|released|\n",
            "|1000000002|  male|30s|  Korea|   Seoul| Jungnang-gu|     overseas inflow|       null|            31|              null|2020-01-30 00:00:00|2020-03-02 00:00:00|         null|released|\n",
            "|1000000003|  male|50s|  Korea|   Seoul|   Jongno-gu|contact with patient| 2002000001|            17|              null|2020-01-30 00:00:00|2020-02-19 00:00:00|         null|released|\n",
            "|1000000004|  male|20s|  Korea|   Seoul|     Mapo-gu|     overseas inflow|       null|             9|        2020-01-26|2020-01-30 00:00:00|2020-02-15 00:00:00|         null|released|\n",
            "|1000000005|female|20s|  Korea|   Seoul| Seongbuk-gu|contact with patient| 1000000002|             2|              null|2020-01-31 00:00:00|2020-02-24 00:00:00|         null|released|\n",
            "|1000000006|female|50s|  Korea|   Seoul|   Jongno-gu|contact with patient| 1000000003|            43|              null|2020-01-31 00:00:00|2020-02-19 00:00:00|         null|released|\n",
            "|1000000007|  male|20s|  Korea|   Seoul|   Jongno-gu|contact with patient| 1000000003|             0|              null|2020-01-31 00:00:00|2020-02-10 00:00:00|         null|released|\n",
            "|1000000008|  male|20s|  Korea|   Seoul|         etc|     overseas inflow|       null|             0|              null|2020-02-02 00:00:00|2020-02-24 00:00:00|         null|released|\n",
            "|1000000009|  male|30s|  Korea|   Seoul|   Songpa-gu|     overseas inflow|       null|            68|              null|2020-02-05 00:00:00|2020-02-21 00:00:00|         null|released|\n",
            "|1000000010|female|60s|  Korea|   Seoul| Seongbuk-gu|contact with patient| 1000000003|             6|              null|2020-02-05 00:00:00|2020-02-29 00:00:00|         null|released|\n",
            "|1000000011|female|50s|  China|   Seoul|Seodaemun-gu|     overseas inflow|       null|            23|              null|2020-02-06 00:00:00|2020-02-29 00:00:00|         null|released|\n",
            "|1000000012|  male|20s|  Korea|   Seoul|         etc|     overseas inflow|       null|             0|              null|2020-02-07 00:00:00|2020-02-27 00:00:00|         null|released|\n",
            "|1000000013|  male|80s|  Korea|   Seoul|   Jongno-gu|contact with patient| 1000000017|           117|              null|2020-02-16 00:00:00|               null|         null|deceased|\n",
            "|1000000014|female|60s|  Korea|   Seoul|   Jongno-gu|contact with patient| 1000000013|            27|        2020-02-06|2020-02-16 00:00:00|2020-03-12 00:00:00|         null|released|\n",
            "|1000000015|  male|70s|  Korea|   Seoul|Seongdong-gu|    Seongdong-gu APT|       null|             8|        2020-02-11|2020-02-19 00:00:00|               null|         null|released|\n",
            "|1000000016|  male|70s|  Korea|   Seoul|   Jongno-gu|contact with patient| 1000000017|          null|              null|2020-02-19 00:00:00|2020-03-11 00:00:00|         null|released|\n",
            "|1000000017|  male|70s|  Korea|   Seoul|   Jongno-gu|contact with patient| 1000000003|          null|              null|2020-02-20 00:00:00|2020-03-01 00:00:00|         null|released|\n",
            "|1000000018|  male|20s|  Korea|   Seoul|         etc|                 etc|       null|          null|              null|2020-02-20 00:00:00|               null|         null|released|\n",
            "|1000000019|female|70s|  Korea|   Seoul|   Jongno-gu|contact with patient| 1000000021|          null|              null|2020-02-20 00:00:00|2020-03-08 00:00:00|         null|released|\n",
            "|1000000020|female|70s|  Korea|   Seoul|Seongdong-gu|    Seongdong-gu APT| 1000000015|          null|              null|2020-02-20 00:00:00|               null|         null|released|\n",
            "+----------+------+---+-------+--------+------------+--------------------+-----------+--------------+------------------+-------------------+-------------------+-------------+--------+\n",
            "only showing top 20 rows\n",
            "\n"
          ]
        }
      ]
    },
    {
      "cell_type": "code",
      "source": [
        "#Select the count of males and females in the dataset\n",
        "spark.sql(\"SELECT sex, COUNT(patient_id)\\\n",
        "            from SQLdata\\\n",
        "            group by sex\").show()"
      ],
      "metadata": {
        "colab": {
          "base_uri": "https://localhost:8080/"
        },
        "id": "I46E3cHBM_PM",
        "outputId": "54c38280-9f2f-4bbc-e0bc-0de146ab24c2"
      },
      "execution_count": 26,
      "outputs": [
        {
          "output_type": "stream",
          "name": "stdout",
          "text": [
            "+------+-----------------+\n",
            "|   sex|count(patient_id)|\n",
            "+------+-----------------+\n",
            "|  null|             1122|\n",
            "|female|             2218|\n",
            "|  male|             1825|\n",
            "+------+-----------------+\n",
            "\n"
          ]
        }
      ]
    },
    {
      "cell_type": "code",
      "source": [
        "#How many people did survive, and how many didn't?\n",
        "spark.sql(\"SELECT state ,count(patient_id)\\\n",
        "            from SQLdata\\\n",
        "            group by 1\").show()"
      ],
      "metadata": {
        "colab": {
          "base_uri": "https://localhost:8080/"
        },
        "id": "-10puTamNIt3",
        "outputId": "e9ae1959-9eda-471f-f103-937c434e36b8"
      },
      "execution_count": 27,
      "outputs": [
        {
          "output_type": "stream",
          "name": "stdout",
          "text": [
            "+--------+-----------------+\n",
            "|   state|count(patient_id)|\n",
            "+--------+-----------------+\n",
            "|isolated|             2158|\n",
            "|released|             2929|\n",
            "|deceased|               78|\n",
            "+--------+-----------------+\n",
            "\n"
          ]
        }
      ]
    },
    {
      "cell_type": "code",
      "source": [
        "ppdata = spark.sql(\"SELECT sex, SUBSTRING(age, 1, 2) as age, province, state\\\n",
        "            from SQLdata\")\n",
        "ppdata.show()"
      ],
      "metadata": {
        "colab": {
          "base_uri": "https://localhost:8080/"
        },
        "id": "6qlEUaBvNR_q",
        "outputId": "9b59e159-8903-426f-af7d-9d65e8fc4722"
      },
      "execution_count": 28,
      "outputs": [
        {
          "output_type": "stream",
          "name": "stdout",
          "text": [
            "+------+---+--------+--------+\n",
            "|   sex|age|province|   state|\n",
            "+------+---+--------+--------+\n",
            "|  male| 50|   Seoul|released|\n",
            "|  male| 30|   Seoul|released|\n",
            "|  male| 50|   Seoul|released|\n",
            "|  male| 20|   Seoul|released|\n",
            "|female| 20|   Seoul|released|\n",
            "|female| 50|   Seoul|released|\n",
            "|  male| 20|   Seoul|released|\n",
            "|  male| 20|   Seoul|released|\n",
            "|  male| 30|   Seoul|released|\n",
            "|female| 60|   Seoul|released|\n",
            "|female| 50|   Seoul|released|\n",
            "|  male| 20|   Seoul|released|\n",
            "|  male| 80|   Seoul|deceased|\n",
            "|female| 60|   Seoul|released|\n",
            "|  male| 70|   Seoul|released|\n",
            "|  male| 70|   Seoul|released|\n",
            "|  male| 70|   Seoul|released|\n",
            "|  male| 20|   Seoul|released|\n",
            "|female| 70|   Seoul|released|\n",
            "|female| 70|   Seoul|released|\n",
            "+------+---+--------+--------+\n",
            "only showing top 20 rows\n",
            "\n"
          ]
        }
      ]
    },
    {
      "cell_type": "code",
      "source": [
        "#Machine learning\n",
        "@udf\n",
        "def boolean_to_int(boolean_):\n",
        "    if boolean_ is None:\n",
        "        return 0\n",
        "    if boolean_ is True:\n",
        "        return 1\n",
        "    else:\n",
        "        return 0"
      ],
      "metadata": {
        "id": "T25PYoGbOAbD"
      },
      "execution_count": 29,
      "outputs": []
    },
    {
      "cell_type": "code",
      "source": [
        "MLdata = ddata.withColumn(\"is_male\", boolean_to_int(ddata.is_male).cast(\"int\"))\n",
        "MLdata1 = MLdata.withColumn(\"is_dead\", boolean_to_int(MLdata.is_dead).cast(\"int\"))\n",
        "MLdata1.dtypes"
      ],
      "metadata": {
        "colab": {
          "base_uri": "https://localhost:8080/"
        },
        "id": "uAuQIVhLOPWB",
        "outputId": "7ed086b3-341c-45e6-a703-fb41fe9d9a30"
      },
      "execution_count": 30,
      "outputs": [
        {
          "output_type": "execute_result",
          "data": {
            "text/plain": [
              "[('age', 'double'),\n",
              " ('province', 'string'),\n",
              " ('is_male', 'int'),\n",
              " ('is_dead', 'int')]"
            ]
          },
          "metadata": {},
          "execution_count": 30
        }
      ]
    },
    {
      "cell_type": "code",
      "source": [
        "MLdata1.select([count(when(col(c).isNull(), c)).alias(c) for c in MLdata1.columns]).show()"
      ],
      "metadata": {
        "colab": {
          "base_uri": "https://localhost:8080/"
        },
        "id": "pj27slnqOUyV",
        "outputId": "c6234486-9d0c-4e0b-a2c4-dceb689005fe"
      },
      "execution_count": 31,
      "outputs": [
        {
          "output_type": "stream",
          "name": "stdout",
          "text": [
            "+----+--------+-------+-------+\n",
            "| age|province|is_male|is_dead|\n",
            "+----+--------+-------+-------+\n",
            "|1380|       0|      0|      0|\n",
            "+----+--------+-------+-------+\n",
            "\n"
          ]
        }
      ]
    },
    {
      "cell_type": "code",
      "source": [
        "from pyspark.ml.feature import StringIndexer, OneHotEncoder, Imputer\n",
        "from pyspark.ml.feature import VectorAssembler\n",
        "from pyspark.ml.regression import LinearRegression\n",
        "from pyspark.ml.evaluation import RegressionEvaluator\n",
        "from pyspark.ml.classification import RandomForestClassifier\n",
        "from pyspark.ml import Pipeline\n",
        "from pyspark.ml.evaluation import RegressionEvaluator\n",
        "from pyspark.ml.evaluation import BinaryClassificationEvaluator"
      ],
      "metadata": {
        "id": "YFtQfLNKOYhK"
      },
      "execution_count": 33,
      "outputs": []
    },
    {
      "cell_type": "code",
      "source": [
        "si = StringIndexer(inputCol=\"province\", outputCol=\"province_index\")\n",
        "ohe = OneHotEncoder(inputCol=\"is_male\", outputCol=\"is_male_vec\")\n",
        "imputer = Imputer(inputCol= \"age\", outputCol=\"age\" )\n",
        "features = [\"age\",\"province_index\", \"is_male_vec\"]\n",
        "va = VectorAssembler(inputCols=features, outputCol=\"vec_features\")\n",
        "lr = LinearRegression(featuresCol=\"vec_features\", labelCol=\"is_dead\")\n",
        "dt = RandomForestClassifier(featuresCol=\"vec_features\", labelCol=\"is_dead\",numTrees=5, maxDepth=5)  "
      ],
      "metadata": {
        "id": "e3U2VCCeOeJ3"
      },
      "execution_count": 34,
      "outputs": []
    },
    {
      "cell_type": "code",
      "source": [
        "training, testing = MLdata1.randomSplit([0.8, 0.2])"
      ],
      "metadata": {
        "id": "rXwUbISgOwOu"
      },
      "execution_count": 35,
      "outputs": []
    },
    {
      "cell_type": "code",
      "source": [
        "pipe = Pipeline(stages=[si, ohe, imputer,va, lr])\n",
        "spipe = Pipeline(stages=[si, ohe, imputer,va, dt])\n",
        "model = pipe.fit(training)\n",
        "smodel = spipe.fit(testing)\n",
        "fmpred= model.transform(testing)\n",
        "smpred= smodel.transform(testing)\n",
        "fmpred.describe().show()\n",
        "smpred.describe().show()"
      ],
      "metadata": {
        "colab": {
          "base_uri": "https://localhost:8080/"
        },
        "id": "-_FpctwEOz8p",
        "outputId": "5eb15bc3-cfd9-4dda-9f05-be6252fb0e19"
      },
      "execution_count": 36,
      "outputs": [
        {
          "output_type": "stream",
          "name": "stdout",
          "text": [
            "+-------+------------------+--------+------------------+-------------------+------------------+-------------------+\n",
            "|summary|               age|province|           is_male|            is_dead|    province_index|         prediction|\n",
            "+-------+------------------+--------+------------------+-------------------+------------------+-------------------+\n",
            "|  count|              1017|    1017|              1017|               1017|              1017|               1017|\n",
            "|   mean| 40.77005050271039|    null|0.3392330383480826| 0.4326450344149459|2.5191740412979353|0.43588314114835613|\n",
            "| stddev|17.669616275873672|    null|0.4736819693013992|0.49568629833366623| 3.186443372220012|0.05998848529120532|\n",
            "|    min|               0.0|   Busan|                 0|                  0|               0.0| 0.2697320009238058|\n",
            "|    max|              90.0|   Ulsan|                 1|                  1|              16.0| 0.6400247775816934|\n",
            "+-------+------------------+--------+------------------+-------------------+------------------+-------------------+\n",
            "\n",
            "+-------+------------------+--------+------------------+-------------------+------------------+-------------------+\n",
            "|summary|               age|province|           is_male|            is_dead|    province_index|         prediction|\n",
            "+-------+------------------+--------+------------------+-------------------+------------------+-------------------+\n",
            "|  count|              1017|    1017|              1017|               1017|              1017|               1017|\n",
            "|   mean| 40.98765432098771|    null|0.3392330383480826| 0.4326450344149459|  2.47787610619469|0.30383480825958703|\n",
            "| stddev|17.666220962039834|    null|0.4736819693013992|0.49568629833366623|3.1256105249897286| 0.4601384636777246|\n",
            "|    min|               0.0|   Busan|                 0|                  0|               0.0|                0.0|\n",
            "|    max|              90.0|   Ulsan|                 1|                  1|              16.0|                1.0|\n",
            "+-------+------------------+--------+------------------+-------------------+------------------+-------------------+\n",
            "\n"
          ]
        }
      ]
    },
    {
      "cell_type": "code",
      "source": [
        "ev= RegressionEvaluator(predictionCol=\"prediction\", labelCol=\"is_dead\", metricName=\"rmse\")\n",
        "sev = BinaryClassificationEvaluator(rawPredictionCol=\"prediction\", labelCol=\"is_dead\")\n",
        "ev.evaluate(fmpred)"
      ],
      "metadata": {
        "colab": {
          "base_uri": "https://localhost:8080/"
        },
        "id": "N-oZCm6oO4Hp",
        "outputId": "904127c5-19f0-4362-81e0-6f467c65146b"
      },
      "execution_count": 37,
      "outputs": [
        {
          "output_type": "execute_result",
          "data": {
            "text/plain": [
              "0.49581117212511705"
            ]
          },
          "metadata": {},
          "execution_count": 37
        }
      ]
    },
    {
      "cell_type": "code",
      "source": [
        "sev.evaluate(smpred)"
      ],
      "metadata": {
        "colab": {
          "base_uri": "https://localhost:8080/"
        },
        "id": "-ml6cNMFPBeI",
        "outputId": "82661727-1828-442e-b287-1c620bfa295b"
      },
      "execution_count": 38,
      "outputs": [
        {
          "output_type": "execute_result",
          "data": {
            "text/plain": [
              "0.817086812667402"
            ]
          },
          "metadata": {},
          "execution_count": 38
        }
      ]
    },
    {
      "cell_type": "code",
      "source": [
        ""
      ],
      "metadata": {
        "id": "FNZrFFlFPEFA"
      },
      "execution_count": null,
      "outputs": []
    }
  ]
}